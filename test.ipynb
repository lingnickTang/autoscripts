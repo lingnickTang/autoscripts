{
 "cells": [
  {
   "cell_type": "code",
   "execution_count": 1,
   "metadata": {},
   "outputs": [],
   "source": [
    "from selenium import webdriver\n",
    "from selenium.webdriver.chrome.service import Service as ChromeService\n",
    "from selenium.webdriver.chrome.options import Options\n",
    "from webdriver_manager.chrome import ChromeDriverManager\n",
    "from selenium.webdriver.common.by import By\n",
    "from selenium.webdriver.support import expected_conditions as EC\n",
    "from selenium.webdriver.support.ui import WebDriverWait\n",
    "import time\n",
    "import datetime\n"
   ]
  },
  {
   "cell_type": "code",
   "execution_count": 2,
   "metadata": {},
   "outputs": [],
   "source": [
    "# 设置 Chrome 选项（可选）\n",
    "chrome_options = Options()\n",
    "chrome_options.add_experimental_option(\"debuggerAddress\", \"localhost:9222\")\n",
    "#chrome_options.add_argument(\"--headless\")  # 启动无头模式\n",
    "\n",
    "# 使用 webdriver_manager 自动管理驱动版本\n",
    "driver = webdriver.Chrome(service=ChromeService(ChromeDriverManager().install()), options=chrome_options)\n",
    "wait = WebDriverWait(driver, 10)"
   ]
  },
  {
   "cell_type": "code",
   "execution_count": 4,
   "metadata": {},
   "outputs": [],
   "source": [
    "def wait_until(target_time):\n",
    "    # 获取当前时间\n",
    "    now = datetime.datetime.now()\n",
    "    \n",
    "    # 计算需要等待的时间差\n",
    "    wait_seconds = (target_time - now).total_seconds()\n",
    "    \n",
    "    if wait_seconds > 0:\n",
    "        # 如果目标时间在未来，则等待\n",
    "        print(f\"等待 {wait_seconds} 秒后开始执行...\")\n",
    "        time.sleep(wait_seconds)\n",
    "    else:\n",
    "        # 如果目标时间在过去，立即执行\n",
    "        print(\"目标时间已过，直接开始执行...\")"
   ]
  },
  {
   "cell_type": "code",
   "execution_count": 5,
   "metadata": {},
   "outputs": [
    {
     "name": "stdout",
     "output_type": "stream",
     "text": [
      "等待 55.849053 秒后开始执行...\n"
     ]
    }
   ],
   "source": [
    "# 打开网页\n",
    "url = 'https://main.m.taobao.com/order/index.html?skuId=4227830352490&itemId=20739895092&quantity=2'\n",
    "# element = driver.find_element(By.XPATH, \"//span[text()='提交订单']\")\n",
    "# element.click()\n",
    "# 定义你想要等待到的目标时间\n",
    "target = datetime.datetime(2024, 10, 17, 20, 0, 0)  \n",
    "wait_until(target)\n",
    "driver.get(url)\n",
    "while True:\n",
    "    try:\n",
    "        if driver.find_element(By.XPATH, \"//span[text()='提交订单']\"):\n",
    "            element = driver.find_element(By.XPATH, \"//span[text()='提交订单']\")\n",
    "            element.click()\n",
    "            break\n",
    "    except:\n",
    "        #print(\"waiting for element\")\n",
    "        time.sleep(0.01)\n"
   ]
  }
 ],
 "metadata": {
  "kernelspec": {
   "display_name": "base",
   "language": "python",
   "name": "python3"
  },
  "language_info": {
   "codemirror_mode": {
    "name": "ipython",
    "version": 3
   },
   "file_extension": ".py",
   "mimetype": "text/x-python",
   "name": "python",
   "nbconvert_exporter": "python",
   "pygments_lexer": "ipython3",
   "version": "3.8.8"
  }
 },
 "nbformat": 4,
 "nbformat_minor": 2
}
